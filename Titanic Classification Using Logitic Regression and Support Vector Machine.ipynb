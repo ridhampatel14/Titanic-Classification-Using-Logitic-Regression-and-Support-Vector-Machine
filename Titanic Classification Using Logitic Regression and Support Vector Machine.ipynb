{
  "cells": [
    {
      "cell_type": "code",
      "execution_count": 394,
      "id": "55f95fd0",
      "metadata": {
        "id": "55f95fd0"
      },
      "outputs": [],
      "source": [
        "import pandas as pd\n",
        "import numpy as np\n",
        "import matplotlib.pyplot as plt\n",
        "import seaborn as sns\n",
        "from sklearn.preprocessing import MinMaxScaler\n",
        "from sklearn.linear_model import LogisticRegression\n",
        "from sklearn.metrics import accuracy_score\n",
        "from sklearn.svm import SVC, LinearSVC\n",
        "from sklearn.linear_model import LogisticRegression\n",
        "from sklearn.metrics import accuracy_score\n",
        "from sklearn.svm import SVC, LinearSVC\n",
        "from sklearn.metrics import accuracy_score, confusion_matrix, classification_report, f1_score"
      ]
    },
    {
      "cell_type": "markdown",
      "id": "3002dcf8",
      "metadata": {
        "id": "3002dcf8"
      },
      "source": [
        "**Data Loading / Preprocessing** "
      ]
    },
    {
      "cell_type": "markdown",
      "id": "7f4c9f34",
      "metadata": {
        "id": "7f4c9f34"
      },
      "source": [
        "i. Loading"
      ]
    },
    {
      "cell_type": "code",
      "execution_count": 395,
      "id": "945b5ad9",
      "metadata": {
        "id": "945b5ad9"
      },
      "outputs": [],
      "source": [
        "df_test = pd.read_csv(\"df_test.csv\")\n",
        "df_train = pd.read_csv(\"df_train.csv\")\n",
        "df_noise_20 = pd.read_csv(\"df_train_noise20.csv\")\n",
        "df_noise_40= pd.read_csv(\"df_train_noise40.csv\")\n",
        "df_noise_60 = pd.read_csv(\"df_train_noise60.csv\")"
      ]
    },
    {
      "cell_type": "code",
      "execution_count": 396,
      "id": "dfe8c5d1",
      "metadata": {
        "colab": {
          "base_uri": "https://localhost:8080/"
        },
        "id": "dfe8c5d1",
        "outputId": "c655700a-682c-4541-b31e-a48d9f3e1dec"
      },
      "outputs": [
        {
          "output_type": "stream",
          "name": "stdout",
          "text": [
            "<class 'pandas.core.frame.DataFrame'>\n",
            "RangeIndex: 712 entries, 0 to 711\n",
            "Data columns (total 12 columns):\n",
            " #   Column       Non-Null Count  Dtype  \n",
            "---  ------       --------------  -----  \n",
            " 0   PassengerId  712 non-null    int64  \n",
            " 1   Pclass       712 non-null    int64  \n",
            " 2   Name         712 non-null    object \n",
            " 3   Sex          712 non-null    object \n",
            " 4   Age          574 non-null    float64\n",
            " 5   SibSp        712 non-null    int64  \n",
            " 6   Parch        712 non-null    int64  \n",
            " 7   Ticket       712 non-null    object \n",
            " 8   Fare         712 non-null    float64\n",
            " 9   Cabin        171 non-null    object \n",
            " 10  Embarked     710 non-null    object \n",
            " 11  Survived     712 non-null    int64  \n",
            "dtypes: float64(2), int64(5), object(5)\n",
            "memory usage: 66.9+ KB\n"
          ]
        }
      ],
      "source": [
        "df_train.info()"
      ]
    },
    {
      "cell_type": "code",
      "execution_count": 397,
      "id": "7ad0ef74",
      "metadata": {
        "colab": {
          "base_uri": "https://localhost:8080/"
        },
        "id": "7ad0ef74",
        "outputId": "623a0675-be45-4338-806f-a786f16ee27d"
      },
      "outputs": [
        {
          "output_type": "execute_result",
          "data": {
            "text/plain": [
              "(712, 12)"
            ]
          },
          "metadata": {},
          "execution_count": 397
        }
      ],
      "source": [
        "df_train.shape"
      ]
    },
    {
      "cell_type": "code",
      "execution_count": 398,
      "id": "4b082425",
      "metadata": {
        "colab": {
          "base_uri": "https://localhost:8080/",
          "height": 302
        },
        "id": "4b082425",
        "outputId": "585fd2df-9ce8-4ecb-d931-1baca57f1bb8"
      },
      "outputs": [
        {
          "output_type": "execute_result",
          "data": {
            "text/plain": [
              "   PassengerId  Pclass                                               Name  \\\n",
              "0          299       1                              Saalfeld, Mr. Adolphe   \n",
              "1            9       3  Johnson, Mrs. Oscar W (Elisabeth Vilhelmina Berg)   \n",
              "2          414       2                     Cunningham, Mr. Alfred Fleming   \n",
              "3          542       3               Andersson, Miss. Ingeborg Constanzia   \n",
              "4          557       1  Duff Gordon, Lady. (Lucille Christiana Sutherl...   \n",
              "\n",
              "      Sex   Age  SibSp  Parch  Ticket     Fare Cabin Embarked  Survived  \n",
              "0    male   NaN      0      0   19988  30.5000  C106        S         1  \n",
              "1  female  27.0      0      2  347742  11.1333   NaN        S         1  \n",
              "2    male   NaN      0      0  239853   0.0000   NaN        S         0  \n",
              "3  female   9.0      4      2  347082  31.2750   NaN        S         0  \n",
              "4  female  48.0      1      0   11755  39.6000   A16        C         1  "
            ],
            "text/html": [
              "\n",
              "  <div id=\"df-26b13f58-e803-4169-8d7d-8f81d0b80c65\">\n",
              "    <div class=\"colab-df-container\">\n",
              "      <div>\n",
              "<style scoped>\n",
              "    .dataframe tbody tr th:only-of-type {\n",
              "        vertical-align: middle;\n",
              "    }\n",
              "\n",
              "    .dataframe tbody tr th {\n",
              "        vertical-align: top;\n",
              "    }\n",
              "\n",
              "    .dataframe thead th {\n",
              "        text-align: right;\n",
              "    }\n",
              "</style>\n",
              "<table border=\"1\" class=\"dataframe\">\n",
              "  <thead>\n",
              "    <tr style=\"text-align: right;\">\n",
              "      <th></th>\n",
              "      <th>PassengerId</th>\n",
              "      <th>Pclass</th>\n",
              "      <th>Name</th>\n",
              "      <th>Sex</th>\n",
              "      <th>Age</th>\n",
              "      <th>SibSp</th>\n",
              "      <th>Parch</th>\n",
              "      <th>Ticket</th>\n",
              "      <th>Fare</th>\n",
              "      <th>Cabin</th>\n",
              "      <th>Embarked</th>\n",
              "      <th>Survived</th>\n",
              "    </tr>\n",
              "  </thead>\n",
              "  <tbody>\n",
              "    <tr>\n",
              "      <th>0</th>\n",
              "      <td>299</td>\n",
              "      <td>1</td>\n",
              "      <td>Saalfeld, Mr. Adolphe</td>\n",
              "      <td>male</td>\n",
              "      <td>NaN</td>\n",
              "      <td>0</td>\n",
              "      <td>0</td>\n",
              "      <td>19988</td>\n",
              "      <td>30.5000</td>\n",
              "      <td>C106</td>\n",
              "      <td>S</td>\n",
              "      <td>1</td>\n",
              "    </tr>\n",
              "    <tr>\n",
              "      <th>1</th>\n",
              "      <td>9</td>\n",
              "      <td>3</td>\n",
              "      <td>Johnson, Mrs. Oscar W (Elisabeth Vilhelmina Berg)</td>\n",
              "      <td>female</td>\n",
              "      <td>27.0</td>\n",
              "      <td>0</td>\n",
              "      <td>2</td>\n",
              "      <td>347742</td>\n",
              "      <td>11.1333</td>\n",
              "      <td>NaN</td>\n",
              "      <td>S</td>\n",
              "      <td>1</td>\n",
              "    </tr>\n",
              "    <tr>\n",
              "      <th>2</th>\n",
              "      <td>414</td>\n",
              "      <td>2</td>\n",
              "      <td>Cunningham, Mr. Alfred Fleming</td>\n",
              "      <td>male</td>\n",
              "      <td>NaN</td>\n",
              "      <td>0</td>\n",
              "      <td>0</td>\n",
              "      <td>239853</td>\n",
              "      <td>0.0000</td>\n",
              "      <td>NaN</td>\n",
              "      <td>S</td>\n",
              "      <td>0</td>\n",
              "    </tr>\n",
              "    <tr>\n",
              "      <th>3</th>\n",
              "      <td>542</td>\n",
              "      <td>3</td>\n",
              "      <td>Andersson, Miss. Ingeborg Constanzia</td>\n",
              "      <td>female</td>\n",
              "      <td>9.0</td>\n",
              "      <td>4</td>\n",
              "      <td>2</td>\n",
              "      <td>347082</td>\n",
              "      <td>31.2750</td>\n",
              "      <td>NaN</td>\n",
              "      <td>S</td>\n",
              "      <td>0</td>\n",
              "    </tr>\n",
              "    <tr>\n",
              "      <th>4</th>\n",
              "      <td>557</td>\n",
              "      <td>1</td>\n",
              "      <td>Duff Gordon, Lady. (Lucille Christiana Sutherl...</td>\n",
              "      <td>female</td>\n",
              "      <td>48.0</td>\n",
              "      <td>1</td>\n",
              "      <td>0</td>\n",
              "      <td>11755</td>\n",
              "      <td>39.6000</td>\n",
              "      <td>A16</td>\n",
              "      <td>C</td>\n",
              "      <td>1</td>\n",
              "    </tr>\n",
              "  </tbody>\n",
              "</table>\n",
              "</div>\n",
              "      <button class=\"colab-df-convert\" onclick=\"convertToInteractive('df-26b13f58-e803-4169-8d7d-8f81d0b80c65')\"\n",
              "              title=\"Convert this dataframe to an interactive table.\"\n",
              "              style=\"display:none;\">\n",
              "        \n",
              "  <svg xmlns=\"http://www.w3.org/2000/svg\" height=\"24px\"viewBox=\"0 0 24 24\"\n",
              "       width=\"24px\">\n",
              "    <path d=\"M0 0h24v24H0V0z\" fill=\"none\"/>\n",
              "    <path d=\"M18.56 5.44l.94 2.06.94-2.06 2.06-.94-2.06-.94-.94-2.06-.94 2.06-2.06.94zm-11 1L8.5 8.5l.94-2.06 2.06-.94-2.06-.94L8.5 2.5l-.94 2.06-2.06.94zm10 10l.94 2.06.94-2.06 2.06-.94-2.06-.94-.94-2.06-.94 2.06-2.06.94z\"/><path d=\"M17.41 7.96l-1.37-1.37c-.4-.4-.92-.59-1.43-.59-.52 0-1.04.2-1.43.59L10.3 9.45l-7.72 7.72c-.78.78-.78 2.05 0 2.83L4 21.41c.39.39.9.59 1.41.59.51 0 1.02-.2 1.41-.59l7.78-7.78 2.81-2.81c.8-.78.8-2.07 0-2.86zM5.41 20L4 18.59l7.72-7.72 1.47 1.35L5.41 20z\"/>\n",
              "  </svg>\n",
              "      </button>\n",
              "      \n",
              "  <style>\n",
              "    .colab-df-container {\n",
              "      display:flex;\n",
              "      flex-wrap:wrap;\n",
              "      gap: 12px;\n",
              "    }\n",
              "\n",
              "    .colab-df-convert {\n",
              "      background-color: #E8F0FE;\n",
              "      border: none;\n",
              "      border-radius: 50%;\n",
              "      cursor: pointer;\n",
              "      display: none;\n",
              "      fill: #1967D2;\n",
              "      height: 32px;\n",
              "      padding: 0 0 0 0;\n",
              "      width: 32px;\n",
              "    }\n",
              "\n",
              "    .colab-df-convert:hover {\n",
              "      background-color: #E2EBFA;\n",
              "      box-shadow: 0px 1px 2px rgba(60, 64, 67, 0.3), 0px 1px 3px 1px rgba(60, 64, 67, 0.15);\n",
              "      fill: #174EA6;\n",
              "    }\n",
              "\n",
              "    [theme=dark] .colab-df-convert {\n",
              "      background-color: #3B4455;\n",
              "      fill: #D2E3FC;\n",
              "    }\n",
              "\n",
              "    [theme=dark] .colab-df-convert:hover {\n",
              "      background-color: #434B5C;\n",
              "      box-shadow: 0px 1px 3px 1px rgba(0, 0, 0, 0.15);\n",
              "      filter: drop-shadow(0px 1px 2px rgba(0, 0, 0, 0.3));\n",
              "      fill: #FFFFFF;\n",
              "    }\n",
              "  </style>\n",
              "\n",
              "      <script>\n",
              "        const buttonEl =\n",
              "          document.querySelector('#df-26b13f58-e803-4169-8d7d-8f81d0b80c65 button.colab-df-convert');\n",
              "        buttonEl.style.display =\n",
              "          google.colab.kernel.accessAllowed ? 'block' : 'none';\n",
              "\n",
              "        async function convertToInteractive(key) {\n",
              "          const element = document.querySelector('#df-26b13f58-e803-4169-8d7d-8f81d0b80c65');\n",
              "          const dataTable =\n",
              "            await google.colab.kernel.invokeFunction('convertToInteractive',\n",
              "                                                     [key], {});\n",
              "          if (!dataTable) return;\n",
              "\n",
              "          const docLinkHtml = 'Like what you see? Visit the ' +\n",
              "            '<a target=\"_blank\" href=https://colab.research.google.com/notebooks/data_table.ipynb>data table notebook</a>'\n",
              "            + ' to learn more about interactive tables.';\n",
              "          element.innerHTML = '';\n",
              "          dataTable['output_type'] = 'display_data';\n",
              "          await google.colab.output.renderOutput(dataTable, element);\n",
              "          const docLink = document.createElement('div');\n",
              "          docLink.innerHTML = docLinkHtml;\n",
              "          element.appendChild(docLink);\n",
              "        }\n",
              "      </script>\n",
              "    </div>\n",
              "  </div>\n",
              "  "
            ]
          },
          "metadata": {},
          "execution_count": 398
        }
      ],
      "source": [
        "df_train.head(5)"
      ]
    },
    {
      "cell_type": "code",
      "execution_count": 399,
      "id": "d87cb3cc",
      "metadata": {
        "colab": {
          "base_uri": "https://localhost:8080/"
        },
        "id": "d87cb3cc",
        "outputId": "bd6e0920-5c22-4a04-d591-671a8f63af27"
      },
      "outputs": [
        {
          "output_type": "execute_result",
          "data": {
            "text/plain": [
              "PassengerId      0\n",
              "Pclass           0\n",
              "Name             0\n",
              "Sex              0\n",
              "Age            138\n",
              "SibSp            0\n",
              "Parch            0\n",
              "Ticket           0\n",
              "Fare             0\n",
              "Cabin          541\n",
              "Embarked         2\n",
              "Survived         0\n",
              "dtype: int64"
            ]
          },
          "metadata": {},
          "execution_count": 399
        }
      ],
      "source": [
        "df_train.isnull().sum()"
      ]
    },
    {
      "cell_type": "code",
      "execution_count": 400,
      "id": "0ded69ba",
      "metadata": {
        "id": "0ded69ba"
      },
      "outputs": [],
      "source": [
        "df_train = df_train.drop(columns=['Cabin','PassengerId','Name','Ticket'])"
      ]
    },
    {
      "cell_type": "code",
      "execution_count": 401,
      "id": "798bb94f",
      "metadata": {
        "colab": {
          "base_uri": "https://localhost:8080/"
        },
        "id": "798bb94f",
        "outputId": "d5b48342-c651-4936-8add-8934fd2963a2"
      },
      "outputs": [
        {
          "output_type": "execute_result",
          "data": {
            "text/plain": [
              "(712, 8)"
            ]
          },
          "metadata": {},
          "execution_count": 401
        }
      ],
      "source": [
        "df_train.shape"
      ]
    },
    {
      "cell_type": "code",
      "execution_count": 402,
      "id": "c905a6f2",
      "metadata": {
        "id": "c905a6f2"
      },
      "outputs": [],
      "source": [
        "mean = np.around(df_train['Age'].mean(), decimals=1)\n",
        "df_train['Age'].fillna(mean, inplace=True)"
      ]
    },
    {
      "cell_type": "code",
      "execution_count": 403,
      "id": "d34cff3a",
      "metadata": {
        "colab": {
          "base_uri": "https://localhost:8080/"
        },
        "id": "d34cff3a",
        "outputId": "a7a4969f-cd61-4964-e84d-6c805c27af9c"
      },
      "outputs": [
        {
          "output_type": "execute_result",
          "data": {
            "text/plain": [
              "Pclass      0\n",
              "Sex         0\n",
              "Age         0\n",
              "SibSp       0\n",
              "Parch       0\n",
              "Fare        0\n",
              "Embarked    2\n",
              "Survived    0\n",
              "dtype: int64"
            ]
          },
          "metadata": {},
          "execution_count": 403
        }
      ],
      "source": [
        "df_train.isnull().sum()"
      ]
    },
    {
      "cell_type": "code",
      "execution_count": 404,
      "id": "9b0aeb03",
      "metadata": {
        "id": "9b0aeb03"
      },
      "outputs": [],
      "source": [
        "df_train.dropna(inplace=True)"
      ]
    },
    {
      "cell_type": "code",
      "execution_count": 405,
      "id": "8c9acb3b",
      "metadata": {
        "colab": {
          "base_uri": "https://localhost:8080/"
        },
        "id": "8c9acb3b",
        "outputId": "127e2a7f-1e6b-4452-bba7-1ce208e4dfef"
      },
      "outputs": [
        {
          "output_type": "execute_result",
          "data": {
            "text/plain": [
              "Pclass      0\n",
              "Sex         0\n",
              "Age         0\n",
              "SibSp       0\n",
              "Parch       0\n",
              "Fare        0\n",
              "Embarked    0\n",
              "Survived    0\n",
              "dtype: int64"
            ]
          },
          "metadata": {},
          "execution_count": 405
        }
      ],
      "source": [
        "df_train.isnull().sum()"
      ]
    },
    {
      "cell_type": "code",
      "execution_count": 406,
      "id": "3e74928f",
      "metadata": {
        "colab": {
          "base_uri": "https://localhost:8080/"
        },
        "id": "3e74928f",
        "outputId": "405d1155-e42a-4b8b-d176-ccb388218326"
      },
      "outputs": [
        {
          "output_type": "execute_result",
          "data": {
            "text/plain": [
              "(710, 8)"
            ]
          },
          "metadata": {},
          "execution_count": 406
        }
      ],
      "source": [
        "df_train.shape"
      ]
    },
    {
      "cell_type": "code",
      "execution_count": 407,
      "id": "6f40e8d6",
      "metadata": {
        "colab": {
          "base_uri": "https://localhost:8080/"
        },
        "id": "6f40e8d6",
        "outputId": "f662a653-8ade-478c-d30c-3688b3d2d60d"
      },
      "outputs": [
        {
          "output_type": "stream",
          "name": "stdout",
          "text": [
            "(710, 7)\n",
            "(710,)\n"
          ]
        }
      ],
      "source": [
        "y_train = df_train['Survived']\n",
        "X_train = df_train.drop(['Survived'], axis=1)\n",
        "print(X_train.shape)\n",
        "print(y_train.shape)"
      ]
    },
    {
      "cell_type": "code",
      "execution_count": 408,
      "id": "0ad7afc5",
      "metadata": {
        "colab": {
          "base_uri": "https://localhost:8080/"
        },
        "id": "0ad7afc5",
        "outputId": "051762b0-703f-4a89-82e9-fb3e66c5d8f9"
      },
      "outputs": [
        {
          "output_type": "stream",
          "name": "stdout",
          "text": [
            "(179, 8)\n",
            "(179,)\n"
          ]
        }
      ],
      "source": [
        "y_test = df_test['Survived']\n",
        "X_test = df_test.drop(['Survived'], axis=1)\n",
        "print(X_test.shape)\n",
        "print(y_test.shape)"
      ]
    },
    {
      "cell_type": "markdown",
      "id": "23079b2a",
      "metadata": {
        "id": "23079b2a"
      },
      "source": [
        "ii. Data Visualization"
      ]
    },
    {
      "cell_type": "code",
      "execution_count": 409,
      "id": "4fa97581",
      "metadata": {
        "colab": {
          "base_uri": "https://localhost:8080/",
          "height": 295
        },
        "id": "4fa97581",
        "outputId": "5aacd2cd-3ae3-43c7-c5d4-ed845deb42da"
      },
      "outputs": [
        {
          "output_type": "display_data",
          "data": {
            "text/plain": [
              "<Figure size 432x288 with 1 Axes>"
            ],
            "image/png": "[encoded data removed]"
          },
          "metadata": {
            "needs_background": "light"
          }
        }
      ],
      "source": [
        "#Q1 for train data\n",
        "plt.scatter(df_train.Age,df_train.Fare)\n",
        "plt.xlabel('Age of passengers')\n",
        "plt.ylabel('Fare price')\n",
        "plt.title('Age of Passengers/ Price of their Fare')\n",
        "plt.show()"
      ]
    },
    {
      "cell_type": "code",
      "execution_count": 410,
      "id": "e2399e82",
      "metadata": {
        "colab": {
          "base_uri": "https://localhost:8080/"
        },
        "id": "e2399e82",
        "outputId": "102f6075-dd29-451a-fc5f-45098efb92db"
      },
      "outputs": [
        {
          "output_type": "stream",
          "name": "stdout",
          "text": [
            "The highest fare price is  512.3292 and the lowest fare prices is  0.0\n",
            "Mean for Age is  29.75267605633803 Mean for Fare is  32.52509295774648\n",
            "The age of the oldest passenger : 80.0\n"
          ]
        }
      ],
      "source": [
        "#Q1 for train data\n",
        "max_fare = max(df_train.Fare)\n",
        "min_fare = min(df_train.Fare)\n",
        "print(\"The highest fare price is \",max_fare,\"and the lowest fare prices is \",min_fare)\n",
        "mean_age = np.mean(df_train.Age)\n",
        "mean_fare = np.mean(df_train.Fare)\n",
        "print(\"Mean for Age is \",mean_age,\"Mean for Fare is \",mean_fare)\n",
        "oldest_passenger_age = max(df_train.Age)\n",
        "print(\"The age of the oldest passenger :\", oldest_passenger_age)"
      ]
    },
    {
      "cell_type": "code",
      "execution_count": 411,
      "id": "310d531d",
      "metadata": {
        "colab": {
          "base_uri": "https://localhost:8080/",
          "height": 295
        },
        "id": "310d531d",
        "outputId": "f0af6a8d-e9da-479e-c111-8bfc6e739100"
      },
      "outputs": [
        {
          "output_type": "display_data",
          "data": {
            "text/plain": [
              "<Figure size 432x288 with 1 Axes>"
            ],
            "image/png": "[encoded data removed]"
          },
          "metadata": {
            "needs_background": "light"
          }
        }
      ],
      "source": [
        "#Q1 for test data\n",
        "plt.scatter(df_test.Age, df_test.Fare)\n",
        "plt.xlabel('Age of passengers')\n",
        "plt.ylabel('Fare price')\n",
        "plt.title('Age of Passengers/ Price of their Fare')\n",
        "plt.show()"
      ]
    },
    {
      "cell_type": "code",
      "execution_count": 412,
      "id": "7522efe4",
      "metadata": {
        "colab": {
          "base_uri": "https://localhost:8080/"
        },
        "id": "7522efe4",
        "outputId": "5a755ff8-6f73-426c-d7a5-143dc85cfbf7"
      },
      "outputs": [
        {
          "output_type": "stream",
          "name": "stdout",
          "text": [
            "The highest fare price is  512.3292 and the lowest fare prices is  0.0\n",
            "Mean for Age is  29.236928571428567 Mean for Fare is  30.397392737430174\n",
            "The age of the oldest passenger : 71.0\n"
          ]
        }
      ],
      "source": [
        "#Q1 for test data\n",
        "max_fare = max(df_test.Fare)\n",
        "min_fare = min(df_test.Fare)\n",
        "print(\"The highest fare price is \",max_fare,\"and the lowest fare prices is \",min_fare)\n",
        "mean_age = np.mean(df_test.Age)\n",
        "mean_fare = np.mean(df_test.Fare)\n",
        "print(\"Mean for Age is \",mean_age,\"Mean for Fare is \",mean_fare)\n",
        "oldest_passenger_age = max(df_test.Age)\n",
        "print(\"The age of the oldest passenger :\", oldest_passenger_age)"
      ]
    },
    {
      "cell_type": "code",
      "execution_count": 413,
      "id": "8cebaf8d",
      "metadata": {
        "scrolled": true,
        "id": "8cebaf8d"
      },
      "outputs": [],
      "source": [
        "#Q2 calculation\n",
        "group_by_sex = df_train.groupby(['Pclass','Sex'])\n",
        "survived_by_sex = group_by_sex['Survived'].sum()\n",
        "survived_by_sex.name = 'Survived'\n",
        "total_by_sex = group_by_sex['Survived'].size()\n",
        "total_by_sex.name = 'Total'\n",
        "survived_total_by_sex = pd.concat([survived_by_sex, total_by_sex], axis=1)"
      ]
    },
    {
      "cell_type": "code",
      "execution_count": 414,
      "id": "562c6385",
      "metadata": {
        "colab": {
          "base_uri": "https://localhost:8080/",
          "height": 350
        },
        "id": "562c6385",
        "outputId": "9cd3a339-c70c-4d92-cca0-7b26c09e3fbf"
      },
      "outputs": [
        {
          "output_type": "display_data",
          "data": {
            "text/plain": [
              "<Figure size 720x360 with 2 Axes>"
            ],
            "image/png": "[encoded data removed]"
          },
          "metadata": {
            "needs_background": "light"
          }
        }
      ],
      "source": [
        "#Q2 visualization\n",
        "male_survivors = [42, 15, 38]\n",
        "female_survivors = [74, 50, 55]\n",
        "passenger_classes = ['1st Class', '2nd Class', '3rd Class']\n",
        "fig, axs = plt.subplots(nrows=1, ncols=2, figsize=(10,5))\n",
        "axs[0].bar(passenger_classes, male_survivors)\n",
        "axs[0].set_title('Number of Male Survivors vs Passenger Classes')\n",
        "axs[0].set_xlabel('Passenger Classes')\n",
        "axs[0].set_ylabel('Number of Males Survived')\n",
        "axs[1].bar(passenger_classes, female_survivors)\n",
        "axs[1].set_title('Number of Female Survivors vs Passenger Classes')\n",
        "axs[1].set_xlabel('Passenger Classes')\n",
        "axs[1].set_ylabel('Number of Females Survived')\n",
        "plt.show()"
      ]
    },
    {
      "cell_type": "code",
      "execution_count": 415,
      "id": "f7325f32",
      "metadata": {
        "colab": {
          "base_uri": "https://localhost:8080/",
          "height": 506
        },
        "id": "f7325f32",
        "outputId": "84e8ff2d-bf46-4bca-c9d4-c69bb4e5f65a"
      },
      "outputs": [
        {
          "output_type": "display_data",
          "data": {
            "text/plain": [
              "        Survived Males\n",
              "Pclass                \n",
              "1                   42\n",
              "2                   15\n",
              "3                   38"
            ],
            "text/html": [
              "\n",
              "  <div id=\"df-90018e53-fba0-4d9a-9be4-a250d0faa351\">\n",
              "    <div class=\"colab-df-container\">\n",
              "      <div>\n",
              "<style scoped>\n",
              "    .dataframe tbody tr th:only-of-type {\n",
              "        vertical-align: middle;\n",
              "    }\n",
              "\n",
              "    .dataframe tbody tr th {\n",
              "        vertical-align: top;\n",
              "    }\n",
              "\n",
              "    .dataframe thead th {\n",
              "        text-align: right;\n",
              "    }\n",
              "</style>\n",
              "<table border=\"1\" class=\"dataframe\">\n",
              "  <thead>\n",
              "    <tr style=\"text-align: right;\">\n",
              "      <th></th>\n",
              "      <th>Survived Males</th>\n",
              "    </tr>\n",
              "    <tr>\n",
              "      <th>Pclass</th>\n",
              "      <th></th>\n",
              "    </tr>\n",
              "  </thead>\n",
              "  <tbody>\n",
              "    <tr>\n",
              "      <th>1</th>\n",
              "      <td>42</td>\n",
              "    </tr>\n",
              "    <tr>\n",
              "      <th>2</th>\n",
              "      <td>15</td>\n",
              "    </tr>\n",
              "    <tr>\n",
              "      <th>3</th>\n",
              "      <td>38</td>\n",
              "    </tr>\n",
              "  </tbody>\n",
              "</table>\n",
              "</div>\n",
              "      <button class=\"colab-df-convert\" onclick=\"convertToInteractive('df-90018e53-fba0-4d9a-9be4-a250d0faa351')\"\n",
              "              title=\"Convert this dataframe to an interactive table.\"\n",
              "              style=\"display:none;\">\n",
              "        \n",
              "  <svg xmlns=\"http://www.w3.org/2000/svg\" height=\"24px\"viewBox=\"0 0 24 24\"\n",
              "       width=\"24px\">\n",
              "    <path d=\"M0 0h24v24H0V0z\" fill=\"none\"/>\n",
              "    <path d=\"M18.56 5.44l.94 2.06.94-2.06 2.06-.94-2.06-.94-.94-2.06-.94 2.06-2.06.94zm-11 1L8.5 8.5l.94-2.06 2.06-.94-2.06-.94L8.5 2.5l-.94 2.06-2.06.94zm10 10l.94 2.06.94-2.06 2.06-.94-2.06-.94-.94-2.06-.94 2.06-2.06.94z\"/><path d=\"M17.41 7.96l-1.37-1.37c-.4-.4-.92-.59-1.43-.59-.52 0-1.04.2-1.43.59L10.3 9.45l-7.72 7.72c-.78.78-.78 2.05 0 2.83L4 21.41c.39.39.9.59 1.41.59.51 0 1.02-.2 1.41-.59l7.78-7.78 2.81-2.81c.8-.78.8-2.07 0-2.86zM5.41 20L4 18.59l7.72-7.72 1.47 1.35L5.41 20z\"/>\n",
              "  </svg>\n",
              "      </button>\n",
              "      \n",
              "  <style>\n",
              "    .colab-df-container {\n",
              "      display:flex;\n",
              "      flex-wrap:wrap;\n",
              "      gap: 12px;\n",
              "    }\n",
              "\n",
              "    .colab-df-convert {\n",
              "      background-color: #E8F0FE;\n",
              "      border: none;\n",
              "      border-radius: 50%;\n",
              "      cursor: pointer;\n",
              "      display: none;\n",
              "      fill: #1967D2;\n",
              "      height: 32px;\n",
              "      padding: 0 0 0 0;\n",
              "      width: 32px;\n",
              "    }\n",
              "\n",
              "    .colab-df-convert:hover {\n",
              "      background-color: #E2EBFA;\n",
              "      box-shadow: 0px 1px 2px rgba(60, 64, 67, 0.3), 0px 1px 3px 1px rgba(60, 64, 67, 0.15);\n",
              "      fill: #174EA6;\n",
              "    }\n",
              "\n",
              "    [theme=dark] .colab-df-convert {\n",
              "      background-color: #3B4455;\n",
              "      fill: #D2E3FC;\n",
              "    }\n",
              "\n",
              "    [theme=dark] .colab-df-convert:hover {\n",
              "      background-color: #434B5C;\n",
              "      box-shadow: 0px 1px 3px 1px rgba(0, 0, 0, 0.15);\n",
              "      filter: drop-shadow(0px 1px 2px rgba(0, 0, 0, 0.3));\n",
              "      fill: #FFFFFF;\n",
              "    }\n",
              "  </style>\n",
              "\n",
              "      <script>\n",
              "        const buttonEl =\n",
              "          document.querySelector('#df-90018e53-fba0-4d9a-9be4-a250d0faa351 button.colab-df-convert');\n",
              "        buttonEl.style.display =\n",
              "          google.colab.kernel.accessAllowed ? 'block' : 'none';\n",
              "\n",
              "        async function convertToInteractive(key) {\n",
              "          const element = document.querySelector('#df-90018e53-fba0-4d9a-9be4-a250d0faa351');\n",
              "          const dataTable =\n",
              "            await google.colab.kernel.invokeFunction('convertToInteractive',\n",
              "                                                     [key], {});\n",
              "          if (!dataTable) return;\n",
              "\n",
              "          const docLinkHtml = 'Like what you see? Visit the ' +\n",
              "            '<a target=\"_blank\" href=https://colab.research.google.com/notebooks/data_table.ipynb>data table notebook</a>'\n",
              "            + ' to learn more about interactive tables.';\n",
              "          element.innerHTML = '';\n",
              "          dataTable['output_type'] = 'display_data';\n",
              "          await google.colab.output.renderOutput(dataTable, element);\n",
              "          const docLink = document.createElement('div');\n",
              "          docLink.innerHTML = docLinkHtml;\n",
              "          element.appendChild(docLink);\n",
              "        }\n",
              "      </script>\n",
              "    </div>\n",
              "  </div>\n",
              "  "
            ]
          },
          "metadata": {}
        },
        {
          "output_type": "display_data",
          "data": {
            "text/plain": [
              "        Survived Females\n",
              "Pclass                  \n",
              "1                     74\n",
              "2                     50\n",
              "3                     55"
            ],
            "text/html": [
              "\n",
              "  <div id=\"df-03022eb1-9d76-4dc3-a7ec-053b9941b594\">\n",
              "    <div class=\"colab-df-container\">\n",
              "      <div>\n",
              "<style scoped>\n",
              "    .dataframe tbody tr th:only-of-type {\n",
              "        vertical-align: middle;\n",
              "    }\n",
              "\n",
              "    .dataframe tbody tr th {\n",
              "        vertical-align: top;\n",
              "    }\n",
              "\n",
              "    .dataframe thead th {\n",
              "        text-align: right;\n",
              "    }\n",
              "</style>\n",
              "<table border=\"1\" class=\"dataframe\">\n",
              "  <thead>\n",
              "    <tr style=\"text-align: right;\">\n",
              "      <th></th>\n",
              "      <th>Survived Females</th>\n",
              "    </tr>\n",
              "    <tr>\n",
              "      <th>Pclass</th>\n",
              "      <th></th>\n",
              "    </tr>\n",
              "  </thead>\n",
              "  <tbody>\n",
              "    <tr>\n",
              "      <th>1</th>\n",
              "      <td>74</td>\n",
              "    </tr>\n",
              "    <tr>\n",
              "      <th>2</th>\n",
              "      <td>50</td>\n",
              "    </tr>\n",
              "    <tr>\n",
              "      <th>3</th>\n",
              "      <td>55</td>\n",
              "    </tr>\n",
              "  </tbody>\n",
              "</table>\n",
              "</div>\n",
              "      <button class=\"colab-df-convert\" onclick=\"convertToInteractive('df-03022eb1-9d76-4dc3-a7ec-053b9941b594')\"\n",
              "              title=\"Convert this dataframe to an interactive table.\"\n",
              "              style=\"display:none;\">\n",
              "        \n",
              "  <svg xmlns=\"http://www.w3.org/2000/svg\" height=\"24px\"viewBox=\"0 0 24 24\"\n",
              "       width=\"24px\">\n",
              "    <path d=\"M0 0h24v24H0V0z\" fill=\"none\"/>\n",
              "    <path d=\"M18.56 5.44l.94 2.06.94-2.06 2.06-.94-2.06-.94-.94-2.06-.94 2.06-2.06.94zm-11 1L8.5 8.5l.94-2.06 2.06-.94-2.06-.94L8.5 2.5l-.94 2.06-2.06.94zm10 10l.94 2.06.94-2.06 2.06-.94-2.06-.94-.94-2.06-.94 2.06-2.06.94z\"/><path d=\"M17.41 7.96l-1.37-1.37c-.4-.4-.92-.59-1.43-.59-.52 0-1.04.2-1.43.59L10.3 9.45l-7.72 7.72c-.78.78-.78 2.05 0 2.83L4 21.41c.39.39.9.59 1.41.59.51 0 1.02-.2 1.41-.59l7.78-7.78 2.81-2.81c.8-.78.8-2.07 0-2.86zM5.41 20L4 18.59l7.72-7.72 1.47 1.35L5.41 20z\"/>\n",
              "  </svg>\n",
              "      </button>\n",
              "      \n",
              "  <style>\n",
              "    .colab-df-container {\n",
              "      display:flex;\n",
              "      flex-wrap:wrap;\n",
              "      gap: 12px;\n",
              "    }\n",
              "\n",
              "    .colab-df-convert {\n",
              "      background-color: #E8F0FE;\n",
              "      border: none;\n",
              "      border-radius: 50%;\n",
              "      cursor: pointer;\n",
              "      display: none;\n",
              "      fill: #1967D2;\n",
              "      height: 32px;\n",
              "      padding: 0 0 0 0;\n",
              "      width: 32px;\n",
              "    }\n",
              "\n",
              "    .colab-df-convert:hover {\n",
              "      background-color: #E2EBFA;\n",
              "      box-shadow: 0px 1px 2px rgba(60, 64, 67, 0.3), 0px 1px 3px 1px rgba(60, 64, 67, 0.15);\n",
              "      fill: #174EA6;\n",
              "    }\n",
              "\n",
              "    [theme=dark] .colab-df-convert {\n",
              "      background-color: #3B4455;\n",
              "      fill: #D2E3FC;\n",
              "    }\n",
              "\n",
              "    [theme=dark] .colab-df-convert:hover {\n",
              "      background-color: #434B5C;\n",
              "      box-shadow: 0px 1px 3px 1px rgba(0, 0, 0, 0.15);\n",
              "      filter: drop-shadow(0px 1px 2px rgba(0, 0, 0, 0.3));\n",
              "      fill: #FFFFFF;\n",
              "    }\n",
              "  </style>\n",
              "\n",
              "      <script>\n",
              "        const buttonEl =\n",
              "          document.querySelector('#df-03022eb1-9d76-4dc3-a7ec-053b9941b594 button.colab-df-convert');\n",
              "        buttonEl.style.display =\n",
              "          google.colab.kernel.accessAllowed ? 'block' : 'none';\n",
              "\n",
              "        async function convertToInteractive(key) {\n",
              "          const element = document.querySelector('#df-03022eb1-9d76-4dc3-a7ec-053b9941b594');\n",
              "          const dataTable =\n",
              "            await google.colab.kernel.invokeFunction('convertToInteractive',\n",
              "                                                     [key], {});\n",
              "          if (!dataTable) return;\n",
              "\n",
              "          const docLinkHtml = 'Like what you see? Visit the ' +\n",
              "            '<a target=\"_blank\" href=https://colab.research.google.com/notebooks/data_table.ipynb>data table notebook</a>'\n",
              "            + ' to learn more about interactive tables.';\n",
              "          element.innerHTML = '';\n",
              "          dataTable['output_type'] = 'display_data';\n",
              "          await google.colab.output.renderOutput(dataTable, element);\n",
              "          const docLink = document.createElement('div');\n",
              "          docLink.innerHTML = docLinkHtml;\n",
              "          element.appendChild(docLink);\n",
              "        }\n",
              "      </script>\n",
              "    </div>\n",
              "  </div>\n",
              "  "
            ]
          },
          "metadata": {}
        },
        {
          "output_type": "stream",
          "name": "stdout",
          "text": [
            "a: \n",
            " i. \n",
            "Class 2  has the least number of survived males And number of survived males are 15\n",
            "ii. \n",
            "Class 2  has the least number of survived females And number of survived females are 50\n",
            "b:\n",
            "i.\n",
            "Class 1  has the greatest number of survived males And number of survived males are 42\n",
            "ii.\n",
            "Class 1  has the greatest number of survived females And number of survived females are 74\n"
          ]
        }
      ],
      "source": [
        "#Q2 sub questions\n",
        "group_by_male = df_train[df_train['Sex'] == 'male'].groupby(['Pclass'])\n",
        "group_by_female = df_train[df_train['Sex'] == 'female'].groupby(['Pclass'])\n",
        "survived_by_male = group_by_male['Survived'].sum()\n",
        "survived_by_male.name = 'Survived Males'\n",
        "survived_by_female = group_by_female['Survived'].sum()\n",
        "survived_by_female.name = 'Survived Females'\n",
        "survived_total_by_male = pd.concat([survived_by_male], axis=1)\n",
        "survived_total_by_female = pd.concat([survived_by_female], axis=1)\n",
        "display(survived_total_by_male,survived_total_by_female)\n",
        "print('a: \\n i. \\nClass', survived_total_by_male['Survived Males'].idxmin(),' has the least number of survived males','And number of survived males are', survived_total_by_male['Survived Males'].min())\n",
        "print('ii. \\nClass', survived_total_by_female['Survived Females'].idxmin(),' has the least number of survived females','And number of survived females are', survived_total_by_female['Survived Females'].min())\n",
        "print('b:\\ni.\\nClass', survived_total_by_male['Survived Males'].idxmax(),' has the greatest number of survived males','And number of survived males are', survived_total_by_male['Survived Males'].max())\n",
        "print('ii.\\nClass', survived_total_by_female['Survived Females'].idxmax(),' has the greatest number of survived females','And number of survived females are', survived_total_by_female['Survived Females'].max())"
      ]
    },
    {
      "cell_type": "code",
      "execution_count": 416,
      "id": "88a60da0",
      "metadata": {
        "colab": {
          "base_uri": "https://localhost:8080/",
          "height": 292
        },
        "id": "88a60da0",
        "outputId": "1c13e477-d4d9-423b-c4a8-1631117a9dca"
      },
      "outputs": [
        {
          "output_type": "display_data",
          "data": {
            "text/plain": [
              "<Figure size 432x288 with 1 Axes>"
            ],
            "image/png": "[encoded data removed]"
          },
          "metadata": {
            "needs_background": "light"
          }
        }
      ],
      "source": [
        "#Q3\n",
        "counts = y_train.value_counts()\n",
        "counts.plot.bar()\n",
        "plt.title('Distribution of survived column in y_train')\n",
        "plt.xlabel('Survived')\n",
        "plt.ylabel('Number of passengers')\n",
        "plt.show()"
      ]
    },
    {
      "cell_type": "code",
      "execution_count": 417,
      "id": "1cef22af",
      "metadata": {
        "id": "1cef22af"
      },
      "outputs": [],
      "source": [
        "X_train = pd.get_dummies(X_train, columns = ['Sex','Embarked'])"
      ]
    },
    {
      "cell_type": "code",
      "execution_count": 418,
      "id": "5c29d58b",
      "metadata": {
        "colab": {
          "base_uri": "https://localhost:8080/"
        },
        "id": "5c29d58b",
        "outputId": "1695f919-d8b3-4a65-d76e-b8b8458acc4e"
      },
      "outputs": [
        {
          "output_type": "execute_result",
          "data": {
            "text/plain": [
              "(710, 10)"
            ]
          },
          "metadata": {},
          "execution_count": 418
        }
      ],
      "source": [
        "X_train.shape"
      ]
    },
    {
      "cell_type": "markdown",
      "id": "2868b276",
      "metadata": {
        "id": "2868b276"
      },
      "source": [
        "iii. Data Scaling "
      ]
    },
    {
      "cell_type": "code",
      "execution_count": 419,
      "id": "8fbaa84e",
      "metadata": {
        "id": "8fbaa84e"
      },
      "outputs": [],
      "source": [
        "scaler = MinMaxScaler()\n",
        "X_train[['Age','SibSp','Parch','Fare']] = scaler.fit_transform(X_train[['Age','SibSp','Parch','Fare']])"
      ]
    },
    {
      "cell_type": "code",
      "execution_count": 420,
      "id": "7deac7ee",
      "metadata": {
        "id": "7deac7ee"
      },
      "outputs": [],
      "source": [
        "X_test[['Age','SibSp','Parch','Fare']] = scaler.transform(X_test[['Age','SibSp','Parch','Fare']])"
      ]
    },
    {
      "cell_type": "markdown",
      "id": "83f8fb54",
      "metadata": {
        "id": "83f8fb54"
      },
      "source": [
        "**Modelling**"
      ]
    },
    {
      "cell_type": "code",
      "execution_count": 421,
      "id": "02d52723",
      "metadata": {
        "id": "02d52723"
      },
      "outputs": [],
      "source": [
        "X_train = X_train.drop(columns=['Sex_female', 'Embarked_C'])"
      ]
    },
    {
      "cell_type": "code",
      "execution_count": 422,
      "id": "89d38dcd",
      "metadata": {
        "colab": {
          "base_uri": "https://localhost:8080/"
        },
        "id": "89d38dcd",
        "outputId": "f4961f75-8034-4709-e05b-cc6df86ecf41"
      },
      "outputs": [
        {
          "output_type": "stream",
          "name": "stdout",
          "text": [
            "0.88268156424581\n"
          ]
        }
      ],
      "source": [
        "#model 1 using logistic regression\n",
        "model_lr = LogisticRegression()\n",
        "model_lr.fit(X_train, y_train)\n",
        "\n",
        "y_pred_lr = model_lr.predict(X_test)\n",
        "\n",
        "print(accuracy_score(y_pred_lr,y_test))"
      ]
    },
    {
      "cell_type": "code",
      "execution_count": 423,
      "id": "dfa263a7",
      "metadata": {
        "colab": {
          "base_uri": "https://localhost:8080/"
        },
        "id": "dfa263a7",
        "outputId": "ed1fd1e7-62c3-4feb-8c81-3df3da0d6c9b"
      },
      "outputs": [
        {
          "output_type": "stream",
          "name": "stdout",
          "text": [
            "0.888268156424581\n"
          ]
        }
      ],
      "source": [
        "#model 2 using SVM\n",
        "model_svm = LinearSVC()\n",
        "model_svm.fit(X_train, y_train)\n",
        "\n",
        "y_pred_svm = model_svm.predict(X_test)\n",
        "\n",
        "print(accuracy_score(y_pred_svm,y_test))"
      ]
    },
    {
      "cell_type": "code",
      "execution_count": 424,
      "id": "6786ea32",
      "metadata": {
        "id": "6786ea32"
      },
      "outputs": [],
      "source": [
        "#spliting data for moisy datasets...\n",
        "y_train_20 = df_noise_20['Survived']\n",
        "X_train_20 = df_noise_20.drop(['Survived'], axis=1)\n",
        "y_train_40 = df_noise_40['Survived']\n",
        "X_train_40 = df_noise_40.drop(['Survived'], axis=1)\n",
        "y_train_60 = df_noise_60['Survived']\n",
        "X_train_60 = df_noise_60.drop(['Survived'], axis=1)"
      ]
    },
    {
      "cell_type": "code",
      "execution_count": 425,
      "id": "5d60a0b0",
      "metadata": {
        "colab": {
          "base_uri": "https://localhost:8080/"
        },
        "id": "5d60a0b0",
        "outputId": "522a33ab-b85f-4301-8d53-dd88916f02c0"
      },
      "outputs": [
        {
          "output_type": "stream",
          "name": "stdout",
          "text": [
            "0.7039106145251397\n"
          ]
        }
      ],
      "source": [
        "#model3 with noise20 using LR\n",
        "model_lr_noise20 = LogisticRegression()\n",
        "model_lr_noise20.fit(X_train_20, y_train_20)\n",
        "y_pred_lr_noise20 = model_lr_noise20.predict(X_test)\n",
        "print(accuracy_score(y_pred_lr_noise20,y_test))"
      ]
    },
    {
      "cell_type": "code",
      "execution_count": 426,
      "id": "dea80875",
      "metadata": {
        "colab": {
          "base_uri": "https://localhost:8080/"
        },
        "id": "dea80875",
        "outputId": "bc8ea6af-3f5c-46c5-c5fa-0859a2fcfadd"
      },
      "outputs": [
        {
          "output_type": "stream",
          "name": "stdout",
          "text": [
            "0.6312849162011173\n"
          ]
        }
      ],
      "source": [
        "#model4 with noise40 using LR\n",
        "model_lr_noise40 = LogisticRegression()\n",
        "model_lr_noise40.fit(X_train_40, y_train_40)\n",
        "y_pred_lr_noise40 = model_lr_noise40.predict(X_test)\n",
        "print(accuracy_score(y_pred_lr_noise40,y_test))"
      ]
    },
    {
      "cell_type": "code",
      "execution_count": 427,
      "id": "3ac0c292",
      "metadata": {
        "colab": {
          "base_uri": "https://localhost:8080/"
        },
        "id": "3ac0c292",
        "outputId": "ebd02dd9-d82a-400c-c9e7-e3afb9c6a8fa"
      },
      "outputs": [
        {
          "output_type": "stream",
          "name": "stdout",
          "text": [
            "0.39664804469273746\n"
          ]
        }
      ],
      "source": [
        "#model5 with noise60 using LR\n",
        "model_lr_noise60 = LogisticRegression()\n",
        "model_lr_noise60.fit(X_train_60, y_train_60)\n",
        "y_pred_lr_noise60 = model_lr_noise60.predict(X_test)\n",
        "print(accuracy_score(y_pred_lr_noise60,y_test))"
      ]
    },
    {
      "cell_type": "raw",
      "id": "0a2e0c8b",
      "metadata": {
        "id": "0a2e0c8b"
      },
      "source": [
        "a :\n",
        "In the beginning, accuracy was 88 %, but as noise increased, accuracy decreased.\n",
        "\n",
        "Logistic regression with clean dataset: 88 % \n",
        "\n",
        "Logistic regression with noise 20: 70 % \n",
        "\n",
        "Logistic regression with noise 40: 63 % \n",
        "\n",
        "Logistic regression with noise 60: 39 %"
      ]
    },
    {
      "cell_type": "code",
      "execution_count": 428,
      "id": "4de0372b",
      "metadata": {
        "colab": {
          "base_uri": "https://localhost:8080/"
        },
        "id": "4de0372b",
        "outputId": "912acb7f-e15d-4b69-d580-43989c470cf9"
      },
      "outputs": [
        {
          "output_type": "stream",
          "name": "stdout",
          "text": [
            "0.6983240223463687\n"
          ]
        }
      ],
      "source": [
        "#model6 with noise20 usinf SVM\n",
        "model_svm_noise20 = LinearSVC()\n",
        "model_svm_noise20.fit(X_train_20, y_train_20)\n",
        "y_pred_svm_noise20 = model_svm_noise20.predict(X_test)\n",
        "print(accuracy_score(y_pred_svm_noise20,y_test))"
      ]
    },
    {
      "cell_type": "code",
      "execution_count": 429,
      "id": "05c6a3c9",
      "metadata": {
        "colab": {
          "base_uri": "https://localhost:8080/"
        },
        "id": "05c6a3c9",
        "outputId": "ea161d71-5a97-4d3e-dbc6-af1bb839e1bd"
      },
      "outputs": [
        {
          "output_type": "stream",
          "name": "stdout",
          "text": [
            "0.664804469273743\n"
          ]
        }
      ],
      "source": [
        "#model7 with noise40 usinf SVM\n",
        "model_svm_noise40 = LinearSVC()\n",
        "model_svm_noise40.fit(X_train_40, y_train_40)\n",
        "y_pred_svm_noise40 = model_svm_noise40.predict(X_test)\n",
        "print(accuracy_score(y_pred_svm_noise40,y_test))"
      ]
    },
    {
      "cell_type": "code",
      "execution_count": 430,
      "id": "9e08a89f",
      "metadata": {
        "colab": {
          "base_uri": "https://localhost:8080/"
        },
        "id": "9e08a89f",
        "outputId": "6dc2972f-a7e2-4e70-a408-0e4cfeb78ae4"
      },
      "outputs": [
        {
          "output_type": "stream",
          "name": "stdout",
          "text": [
            "0.3743016759776536\n"
          ]
        }
      ],
      "source": [
        "#model8 with noise60 usinf SVM\n",
        "model_svm_noise60 = LinearSVC()\n",
        "model_svm_noise60.fit(X_train_60, y_train_60)\n",
        "y_pred_svm_noise60 = model_svm_noise60.predict(X_test)\n",
        "print(accuracy_score(y_pred_svm_noise60,y_test))"
      ]
    },
    {
      "cell_type": "raw",
      "id": "58ef1d0c",
      "metadata": {
        "id": "58ef1d0c"
      },
      "source": [
        "a: \n",
        "\n",
        "In the beginning, accuracy was 88 %, but as noise increased, accuracy decreased.\n",
        "\n",
        "Accuracy for SVM with clean dataset : 88 %\n",
        "\n",
        "Accuracy for SVM with noise 20 : 69 %\n",
        "\n",
        "Accuracy for SVM with noise 40 : 66 %\n",
        "\n",
        "Accuracy for SVM with noise 60 : 37 %"
      ]
    },
    {
      "cell_type": "code",
      "execution_count": 431,
      "id": "e1626ac1",
      "metadata": {
        "id": "e1626ac1"
      },
      "outputs": [],
      "source": [
        "def create_heatmap(cf_matrix):\n",
        "    group_names = [\"True Neg\",\"False Pos\",\"False Neg\",\"True Pos\"]\n",
        "    group_counts = [\"{0:0.0f}\".format(value) for value in\n",
        "                cf_matrix.flatten()]\n",
        "    group_percentages = [\"{0:.2%}\".format(value) for value in\n",
        "                     cf_matrix.flatten()/np.sum(cf_matrix)]\n",
        "    labels = [f\"{v1}\\n{v2}\\n{v3}\" for v1, v2, v3 in\n",
        "          zip(group_names,group_counts,group_percentages)]\n",
        "    labels = np.asarray(labels).reshape(2,2)\n",
        "    return sns.heatmap(cf_matrix, annot=labels, fmt=\"\", cmap='Blues')"
      ]
    },
    {
      "cell_type": "markdown",
      "id": "db2797a0",
      "metadata": {
        "id": "db2797a0"
      },
      "source": [
        "**Evaluation**"
      ]
    },
    {
      "cell_type": "code",
      "execution_count": 432,
      "id": "92eb3938",
      "metadata": {
        "colab": {
          "base_uri": "https://localhost:8080/",
          "height": 473
        },
        "id": "92eb3938",
        "outputId": "f48bf28c-6635-4b5a-9ea1-405d428dc267"
      },
      "outputs": [
        {
          "output_type": "stream",
          "name": "stdout",
          "text": [
            "Classification Report for Model Logistic Regression\n",
            "Weighted F1 score:  0.882085857757772\n",
            "              precision    recall  f1-score   support\n",
            "\n",
            "           0       0.90      0.92      0.91       113\n",
            "           1       0.86      0.82      0.84        66\n",
            "\n",
            "    accuracy                           0.88       179\n",
            "   macro avg       0.88      0.87      0.87       179\n",
            "weighted avg       0.88      0.88      0.88       179\n",
            "\n",
            "AxesSubplot(0.125,0.125;0.62x0.755)\n"
          ]
        },
        {
          "output_type": "display_data",
          "data": {
            "text/plain": [
              "<Figure size 432x288 with 2 Axes>"
            ],
            "image/png": "[encoded data removed]"
          },
          "metadata": {
            "needs_background": "light"
          }
        }
      ],
      "source": [
        "#model1\n",
        "print(\"Classification Report for Model Logistic Regression\")\n",
        "print(\"Weighted F1 score: \", f1_score(y_test, y_pred_lr, average='weighted'))\n",
        "print(classification_report(y_test, y_pred_lr))\n",
        "cf_matrix_lr = confusion_matrix(y_test, y_pred_lr)\n",
        "print(create_heatmap(cf_matrix_lr))"
      ]
    },
    {
      "cell_type": "code",
      "execution_count": 433,
      "id": "860a7ce3",
      "metadata": {
        "id": "860a7ce3",
        "colab": {
          "base_uri": "https://localhost:8080/",
          "height": 473
        },
        "outputId": "43072007-372f-4bc8-c283-bf96ef7a9504"
      },
      "outputs": [
        {
          "output_type": "stream",
          "name": "stdout",
          "text": [
            "Classification Report for Model SVM\n",
            "Weighted F1 score:  0.8878987326502763\n",
            "              precision    recall  f1-score   support\n",
            "\n",
            "           0       0.90      0.92      0.91       113\n",
            "           1       0.86      0.83      0.85        66\n",
            "\n",
            "    accuracy                           0.89       179\n",
            "   macro avg       0.88      0.88      0.88       179\n",
            "weighted avg       0.89      0.89      0.89       179\n",
            "\n",
            "AxesSubplot(0.125,0.125;0.62x0.755)\n"
          ]
        },
        {
          "output_type": "display_data",
          "data": {
            "text/plain": [
              "<Figure size 432x288 with 2 Axes>"
            ],
            "image/png": "[encoded data removed]"
          },
          "metadata": {
            "needs_background": "light"
          }
        }
      ],
      "source": [
        "#model2\n",
        "print(\"Classification Report for Model SVM\")\n",
        "print(\"Weighted F1 score: \", f1_score(y_test, y_pred_svm, average='weighted'))\n",
        "print(classification_report(y_test, y_pred_svm))\n",
        "cf_matrix_svm = confusion_matrix(y_test, y_pred_svm)\n",
        "print(create_heatmap(cf_matrix_svm))"
      ]
    },
    {
      "cell_type": "code",
      "execution_count": 434,
      "id": "e44606b7",
      "metadata": {
        "id": "e44606b7",
        "colab": {
          "base_uri": "https://localhost:8080/",
          "height": 473
        },
        "outputId": "4283428b-af7c-4195-87cf-0b855e4411ce"
      },
      "outputs": [
        {
          "output_type": "stream",
          "name": "stdout",
          "text": [
            "Classification Report for Model Logistic Regression for noise 20\n",
            "Weighted F1 score:  0.6327126769081186\n",
            "              precision    recall  f1-score   support\n",
            "\n",
            "           0       0.68      1.00      0.81       113\n",
            "           1       1.00      0.20      0.33        66\n",
            "\n",
            "    accuracy                           0.70       179\n",
            "   macro avg       0.84      0.60      0.57       179\n",
            "weighted avg       0.80      0.70      0.63       179\n",
            "\n",
            "AxesSubplot(0.125,0.125;0.62x0.755)\n"
          ]
        },
        {
          "output_type": "display_data",
          "data": {
            "text/plain": [
              "<Figure size 432x288 with 2 Axes>"
            ],
            "image/png": "[encoded data removed]"
          },
          "metadata": {
            "needs_background": "light"
          }
        }
      ],
      "source": [
        "#model3\n",
        "print(\"Classification Report for Model Logistic Regression for noise 20\")\n",
        "print(\"Weighted F1 score: \", f1_score(y_test, y_pred_lr_noise20, average='weighted'))\n",
        "print(classification_report(y_test, y_pred_lr_noise20))\n",
        "cf_matrix_lr_noise20 = confusion_matrix(y_test, y_pred_lr_noise20)\n",
        "print(create_heatmap(cf_matrix_lr_noise20))"
      ]
    },
    {
      "cell_type": "code",
      "execution_count": 435,
      "id": "6a3e2aa7",
      "metadata": {
        "id": "6a3e2aa7",
        "colab": {
          "base_uri": "https://localhost:8080/",
          "height": 597
        },
        "outputId": "ac1b32ef-f417-4193-b0e5-92f2250c66f7"
      },
      "outputs": [
        {
          "output_type": "stream",
          "name": "stdout",
          "text": [
            "Classification Report for Model Logistic Regression for noise 40\n",
            "Weighted F1 score:  0.4885972296625086\n",
            "              precision    recall  f1-score   support\n",
            "\n",
            "           0       0.63      1.00      0.77       113\n",
            "           1       0.00      0.00      0.00        66\n",
            "\n",
            "    accuracy                           0.63       179\n",
            "   macro avg       0.32      0.50      0.39       179\n",
            "weighted avg       0.40      0.63      0.49       179\n",
            "\n",
            "AxesSubplot(0.125,0.125;0.62x0.755)\n"
          ]
        },
        {
          "output_type": "stream",
          "name": "stderr",
          "text": [
            "/usr/local/lib/python3.8/dist-packages/sklearn/metrics/_classification.py:1318: UndefinedMetricWarning: Precision and F-score are ill-defined and being set to 0.0 in labels with no predicted samples. Use `zero_division` parameter to control this behavior.\n",
            "  _warn_prf(average, modifier, msg_start, len(result))\n",
            "/usr/local/lib/python3.8/dist-packages/sklearn/metrics/_classification.py:1318: UndefinedMetricWarning: Precision and F-score are ill-defined and being set to 0.0 in labels with no predicted samples. Use `zero_division` parameter to control this behavior.\n",
            "  _warn_prf(average, modifier, msg_start, len(result))\n",
            "/usr/local/lib/python3.8/dist-packages/sklearn/metrics/_classification.py:1318: UndefinedMetricWarning: Precision and F-score are ill-defined and being set to 0.0 in labels with no predicted samples. Use `zero_division` parameter to control this behavior.\n",
            "  _warn_prf(average, modifier, msg_start, len(result))\n"
          ]
        },
        {
          "output_type": "display_data",
          "data": {
            "text/plain": [
              "<Figure size 432x288 with 2 Axes>"
            ],
            "image/png": "[encoded data removed]"
          },
          "metadata": {
            "needs_background": "light"
          }
        }
      ],
      "source": [
        "#model4\n",
        "print(\"Classification Report for Model Logistic Regression for noise 40\")\n",
        "print(\"Weighted F1 score: \", f1_score(y_test, y_pred_lr_noise40, average='weighted'))\n",
        "print(classification_report(y_test, y_pred_lr_noise40))\n",
        "cf_matrix_lr_noise40 = confusion_matrix(y_test, y_pred_lr_noise40)\n",
        "print(create_heatmap(cf_matrix_lr_noise40))"
      ]
    },
    {
      "cell_type": "code",
      "execution_count": 436,
      "id": "90422d39",
      "metadata": {
        "id": "90422d39",
        "colab": {
          "base_uri": "https://localhost:8080/",
          "height": 473
        },
        "outputId": "f44e9687-c92e-413c-a388-5925b2df40f9"
      },
      "outputs": [
        {
          "output_type": "stream",
          "name": "stdout",
          "text": [
            "Classification Report for Model Logistic Regression for noise 60\n",
            "Weighted F1 score:  0.27999500949582046\n",
            "              precision    recall  f1-score   support\n",
            "\n",
            "           0       0.73      0.07      0.13       113\n",
            "           1       0.38      0.95      0.54        66\n",
            "\n",
            "    accuracy                           0.40       179\n",
            "   macro avg       0.55      0.51      0.33       179\n",
            "weighted avg       0.60      0.40      0.28       179\n",
            "\n",
            "AxesSubplot(0.125,0.125;0.62x0.755)\n"
          ]
        },
        {
          "output_type": "display_data",
          "data": {
            "text/plain": [
              "<Figure size 432x288 with 2 Axes>"
            ],
            "image/png": "[encoded data removed]"
          },
          "metadata": {
            "needs_background": "light"
          }
        }
      ],
      "source": [
        "#model5\n",
        "print(\"Classification Report for Model Logistic Regression for noise 60\")\n",
        "print(\"Weighted F1 score: \", f1_score(y_test, y_pred_lr_noise60, average='weighted'))\n",
        "print(classification_report(y_test, y_pred_lr_noise60))\n",
        "cf_matrix_lr_noise60 = confusion_matrix(y_test, y_pred_lr_noise60)\n",
        "print(create_heatmap(cf_matrix_lr_noise60))"
      ]
    },
    {
      "cell_type": "code",
      "execution_count": 437,
      "id": "ce9c44b1",
      "metadata": {
        "id": "ce9c44b1",
        "colab": {
          "base_uri": "https://localhost:8080/",
          "height": 473
        },
        "outputId": "ebc72f3c-8f89-44d1-da90-d990a98bcb69"
      },
      "outputs": [
        {
          "output_type": "stream",
          "name": "stdout",
          "text": [
            "Classification Report for Model SVM for noise 20\n",
            "Weighted F1 score:  0.6229879059487998\n",
            "              precision    recall  f1-score   support\n",
            "\n",
            "           0       0.68      1.00      0.81       113\n",
            "           1       1.00      0.18      0.31        66\n",
            "\n",
            "    accuracy                           0.70       179\n",
            "   macro avg       0.84      0.59      0.56       179\n",
            "weighted avg       0.80      0.70      0.62       179\n",
            "\n",
            "AxesSubplot(0.125,0.125;0.62x0.755)\n"
          ]
        },
        {
          "output_type": "display_data",
          "data": {
            "text/plain": [
              "<Figure size 432x288 with 2 Axes>"
            ],
            "image/png": "[encoded data removed]"
          },
          "metadata": {
            "needs_background": "light"
          }
        }
      ],
      "source": [
        "#model6\n",
        "print(\"Classification Report for Model SVM for noise 20\")\n",
        "print(\"Weighted F1 score: \", f1_score(y_test, y_pred_svm_noise20, average='weighted'))\n",
        "print(classification_report(y_test, y_pred_svm_noise20))\n",
        "cf_matrix_svm_noise20 = confusion_matrix(y_test, y_pred_svm_noise20)\n",
        "print(create_heatmap(cf_matrix_svm_noise20))"
      ]
    },
    {
      "cell_type": "code",
      "execution_count": 438,
      "id": "b5fdee53",
      "metadata": {
        "id": "b5fdee53",
        "colab": {
          "base_uri": "https://localhost:8080/",
          "height": 473
        },
        "outputId": "63b3abbc-7a78-447e-a043-1960140cb2fb"
      },
      "outputs": [
        {
          "output_type": "stream",
          "name": "stdout",
          "text": [
            "Classification Report for Model SVM for noise 40\n",
            "Weighted F1 score:  0.5603000351603703\n",
            "              precision    recall  f1-score   support\n",
            "\n",
            "           0       0.65      1.00      0.79       113\n",
            "           1       1.00      0.09      0.17        66\n",
            "\n",
            "    accuracy                           0.66       179\n",
            "   macro avg       0.83      0.55      0.48       179\n",
            "weighted avg       0.78      0.66      0.56       179\n",
            "\n",
            "AxesSubplot(0.125,0.125;0.62x0.755)\n"
          ]
        },
        {
          "output_type": "display_data",
          "data": {
            "text/plain": [
              "<Figure size 432x288 with 2 Axes>"
            ],
            "image/png": "[encoded data removed]"
          },
          "metadata": {
            "needs_background": "light"
          }
        }
      ],
      "source": [
        "#model7\n",
        "print(\"Classification Report for Model SVM for noise 40\")\n",
        "print(\"Weighted F1 score: \", f1_score(y_test, y_pred_svm_noise40, average='weighted'))\n",
        "print(classification_report(y_test, y_pred_svm_noise40))\n",
        "cf_matrix_svm_noise40 = confusion_matrix(y_test, y_pred_svm_noise40)\n",
        "print(create_heatmap(cf_matrix_svm_noise40))"
      ]
    },
    {
      "cell_type": "code",
      "execution_count": 439,
      "id": "3d857c8d",
      "metadata": {
        "id": "3d857c8d",
        "colab": {
          "base_uri": "https://localhost:8080/",
          "height": 473
        },
        "outputId": "40e1d68b-55fd-4aaa-ea2c-117810fbb355"
      },
      "outputs": [
        {
          "output_type": "stream",
          "name": "stdout",
          "text": [
            "Classification Report for Model SVM for noise 60\n",
            "Weighted F1 score:  0.26807748360456646\n",
            "              precision    recall  f1-score   support\n",
            "\n",
            "           0       0.53      0.07      0.12       113\n",
            "           1       0.36      0.89      0.51        66\n",
            "\n",
            "    accuracy                           0.37       179\n",
            "   macro avg       0.45      0.48      0.32       179\n",
            "weighted avg       0.47      0.37      0.27       179\n",
            "\n",
            "AxesSubplot(0.125,0.125;0.62x0.755)\n"
          ]
        },
        {
          "output_type": "display_data",
          "data": {
            "text/plain": [
              "<Figure size 432x288 with 2 Axes>"
            ],
            "image/png": "[encoded data removed]"
          },
          "metadata": {
            "needs_background": "light"
          }
        }
      ],
      "source": [
        "#model8\n",
        "print(\"Classification Report for Model SVM for noise 60\")\n",
        "print(\"Weighted F1 score: \", f1_score(y_test, y_pred_svm_noise60, average='weighted'))\n",
        "print(classification_report(y_test, y_pred_svm_noise60))\n",
        "cf_matrix_svm_noise60 = confusion_matrix(y_test, y_pred_svm_noise60)\n",
        "print(create_heatmap(cf_matrix_svm_noise60))"
      ]
    }
  ],
  "metadata": {
    "kernelspec": {
      "display_name": "Python 3 (ipykernel)",
      "language": "python",
      "name": "python3"
    },
    "language_info": {
      "codemirror_mode": {
        "name": "ipython",
        "version": 3
      },
      "file_extension": ".py",
      "mimetype": "text/x-python",
      "name": "python",
      "nbconvert_exporter": "python",
      "pygments_lexer": "ipython3",
      "version": "3.10.8"
    },
    "colab": {
      "provenance": [],
      "collapsed_sections": [
        "23079b2a"
      ]
    }
  },
  "nbformat": 4,
  "nbformat_minor": 5
}